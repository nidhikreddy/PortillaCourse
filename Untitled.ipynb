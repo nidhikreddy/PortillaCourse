{
 "cells": [
  {
   "cell_type": "code",
   "execution_count": 1,
   "id": "6e5d43a4",
   "metadata": {},
   "outputs": [
    {
     "name": "stdout",
     "output_type": "stream",
     "text": [
      "Hello and welcome to Nidhi's Tic-Tac-Toe game\n",
      "In this game player 1 will be O's and player 2 will be X's. Lets Go!\n"
     ]
    }
   ],
   "source": [
    "winner_check = False\n",
    "player_turn = 0\n",
    "#In this project I will make an interactive Tic-Tac-Toe game that two aplayers can play \n",
    "def intro ():\n",
    "    #All this function does is it prints ou an introduction to this game\n",
    "    print(\"Hello and welcome to Nidhi's Tic-Tac-Toe game\")\n",
    "    print(\"In this game player 1 will be O's and player 2 will be X's. Lets Go!\")\n",
    "intro()\n",
    "          \n",
    "          "
   ]
  },
  {
   "cell_type": "code",
   "execution_count": 2,
   "id": "58b916e6",
   "metadata": {},
   "outputs": [
    {
     "name": "stdout",
     "output_type": "stream",
     "text": [
      "1|2|3\n",
      "-----\n",
      "4|5|6\n",
      "-----\n",
      "7|8|9\n"
     ]
    }
   ],
   "source": [
    "boardnumlist = [\"1\",\"2\",\"3\",\"4\",\"5\",\"6\",\"7\",\"8\",\"9\"]\n",
    "def display_board():\n",
    "    #This funciton prints out the board\n",
    "    print(boardnumlist[0]+\"|\"+boardnumlist[1]+\"|\"+boardnumlist[2])\n",
    "    print(\"-----\")\n",
    "    print(boardnumlist[3]+\"|\"+boardnumlist[4]+\"|\"+boardnumlist[5])\n",
    "    print(\"-----\")\n",
    "    print(boardnumlist[6]+\"|\"+boardnumlist[7]+\"|\"+boardnumlist[8])\n",
    "display_board()\n",
    "player_turn = 0    "
   ]
  },
  {
   "cell_type": "code",
   "execution_count": null,
   "id": "547217d5",
   "metadata": {},
   "outputs": [],
   "source": [
    "\n",
    "                    \n",
    "\n",
    "\n",
    "    "
   ]
  },
  {
   "cell_type": "code",
   "execution_count": 3,
   "id": "6a18327a",
   "metadata": {},
   "outputs": [
    {
     "name": "stdout",
     "output_type": "stream",
     "text": [
      "True\n"
     ]
    }
   ],
   "source": [
    "print(2 == 2 == 2)"
   ]
  },
  {
   "cell_type": "code",
   "execution_count": 4,
   "id": "c27259a2",
   "metadata": {},
   "outputs": [],
   "source": [
    "def checking_for_winner(boardnumlist):\n",
    "    global winner_check\n",
    "    if boardnumlist[0] == \"O\" and boardnumlist[3] == \"O\" and boardnumlist[6] == \"O\":\n",
    "        winner_check = True\n",
    "        print(\"Congrats player 1. You have won the game\")\n",
    "        return\n",
    "    elif boardnumlist[1] == \"O\" and boardnumlist[4] == \"O\" and boardnumlist[7] == \"O\":\n",
    "        winner_check = True\n",
    "        print(\"Congrats player 1. You have won the game\")\n",
    "        return\n",
    "    elif boardnumlist[2] == \"O\" and boardnumlist[5] == \"O\" and boardnumlist[8] == \"O\":\n",
    "        winner_check = True\n",
    "        print(\"Congrats player 1. You have won the game\")\n",
    "        return\n",
    "    elif boardnumlist[0] == \"O\" and boardnumlist[1] == \"O\" and boardnumlist[2] == \"O\":\n",
    "        winner_check = True\n",
    "        print(\"Congrats player 1. You have won the game\")\n",
    "        return\n",
    "    elif boardnumlist[3] == \"O\" and boardnumlist[4] == \"O\" and boardnumlist[5] == \"O\":\n",
    "        winner_check = True\n",
    "        print(\"Congrats player 1. You have won the game\")\n",
    "        return\n",
    "    elif boardnumlist[6] == \"O\" and boardnumlist[7] == \"O\" and boardlnumlist[8] == \"O\":\n",
    "        winner_check = True\n",
    "        print(\"Congrats player 1. You have won the game\")\n",
    "        return\n",
    "    elif boardnumlist[2] == \"O\" and boardnumlist[4] == \"O\" and boardnumlist[6] == \"O\":\n",
    "        winner_check = True\n",
    "        print(\"Congrats player 1. You have won the game\")\n",
    "        return\n",
    "    elif boardnumlist[0] == \"O\" and boardnumlist[4] == \"O\" and boardnumlist[8] == \"O\":\n",
    "        winner_check = True\n",
    "        print(\"Congrats player 1. You have won the game\")\n",
    "        return\n",
    "    elif boardnumlist[0] == \"X\" and boardnumlist[3] == \"X\" and boardnumlist[6] == \"X\":\n",
    "        winner_check = True\n",
    "        print(\"Congrats player 2. You have won the game\")\n",
    "        return\n",
    "    elif boardnumlist[1] == \"X\" and boardnumlist[4] == \"X\" and boardnumlist[7] == \"X\":\n",
    "        winner_check = True\n",
    "        print(\"Congrats player 2. You have won the game\")\n",
    "        return\n",
    "    elif boardnumlist[2] == \"X\" and boardnumlist[5] == \"X\" and boardnumlist[8] == \"X\":\n",
    "        winner_check = True\n",
    "        print(\"Congrats player 2. You have won the game\")\n",
    "        return\n",
    "    elif boardnumlist[0] == \"X\" and boardnumlist[1] == \"X\" and boardnumlist[2] == \"X\":\n",
    "        winner_check = True\n",
    "        print(\"Congrats player 2. You have won the game\")\n",
    "        return\n",
    "    elif boardnumlist[3] == \"X\" and boardnumlist[4] == \"X\" and boardnumlist[5] == \"X\":\n",
    "        winner_check = True\n",
    "        print(\"Congrats player 2. You have won the game\") \n",
    "        return\n",
    "    elif boardnumlist[6] == \"X\" and boardnumlist[7] == \"X\" and boardnumlist[8] == \"X\":\n",
    "        winner_check = True\n",
    "        print(\"Congrats player 2. You have won the game\")\n",
    "        return\n",
    "    elif boardnumlist[2] == \"X\" and boardnumlist[4] == \"X\" and boardnumlist[6] == \"X\":\n",
    "        winner_check = True\n",
    "        print(\"Congrats player 2. You have won the game\")\n",
    "        return\n",
    "    elif boardnumlist[0] == \"X\" and boardnumlist[4] == \"X\" and boardnumlist[8] == \"X\":\n",
    "        winner_check = True\n",
    "        print(\"Congrats player 2. You have won the game\")\n",
    "        return"
   ]
  },
  {
   "cell_type": "code",
   "execution_count": 5,
   "id": "df2b822b",
   "metadata": {},
   "outputs": [
    {
     "data": {
      "text/plain": [
       "'\\ndef checking_for_winner2(boardnumlist):\\n    global winner_check\\n    #create a 2D list FROM the boardnumlist inputted, and then go by row, and then go by column and then check both diagonals\\n    boardnumlist2d = [[boardnumlist[0], boardnumlist[1], boardnumlist[2]],[boardnumlist[3], boardnumlist[4], boardnumlist[5]], [boardnumlist[6], boardnumlist[7], boardnumlist[8]]]\\n    for i in range(3):\\n        if (boardnumlist2d[i][0] == boardnumlist2d[i][1] == boardnumlist2d[i][2]) or (boardnumlist2d[0][i] == boardnumlist2d[1][i] == boardnumlist2d[2][i]):\\n            winner_check = True\\n            print(\"Congrats player 1. You have won the game\")\\n            return\\n    if (boardnumlist2d[0][0] == boardnumlist2d[1][1] == boardnumlist2d[2][2]) or (boardnumlist2d[0][2] == boardnumlist2d[1][1] == boardnumlist2d[2][0]):\\n        winner_check = True\\n        print(\"Congrats player 1. You have won the game\")\\n        return\\n'"
      ]
     },
     "execution_count": 5,
     "metadata": {},
     "output_type": "execute_result"
    }
   ],
   "source": [
    "\"\"\"\n",
    "def checking_for_winner2(boardnumlist):\n",
    "    global winner_check\n",
    "    #create a 2D list FROM the boardnumlist inputted, and then go by row, and then go by column and then check both diagonals\n",
    "    boardnumlist2d = [[boardnumlist[0], boardnumlist[1], boardnumlist[2]],[boardnumlist[3], boardnumlist[4], boardnumlist[5]], [boardnumlist[6], boardnumlist[7], boardnumlist[8]]]\n",
    "    for i in range(3):\n",
    "        if (boardnumlist2d[i][0] == boardnumlist2d[i][1] == boardnumlist2d[i][2]) or (boardnumlist2d[0][i] == boardnumlist2d[1][i] == boardnumlist2d[2][i]):\n",
    "            winner_check = True\n",
    "            print(\"Congrats player 1. You have won the game\")\n",
    "            return\n",
    "    if (boardnumlist2d[0][0] == boardnumlist2d[1][1] == boardnumlist2d[2][2]) or (boardnumlist2d[0][2] == boardnumlist2d[1][1] == boardnumlist2d[2][0]):\n",
    "        winner_check = True\n",
    "        print(\"Congrats player 1. You have won the game\")\n",
    "        return\n",
    "\"\"\"\n"
   ]
  },
  {
   "cell_type": "code",
   "execution_count": 6,
   "id": "26a8a5d7",
   "metadata": {},
   "outputs": [],
   "source": [
    "player_turn = 0\n",
    "def take_user_input_and_validate_it(player_turn, boardnumlist):\n",
    "    #This function will take a users input and validate it to make sure it fits all parameters for an answer\n",
    "    if player_turn % 2 == 0:\n",
    "        user_result = input(\"Hello player 1. In which spot on the Tic-Tac-Toe board would you like to place an O please give your answer in number form number (1-9)\")\n",
    "        if user_result.isdigit() == True and (user_result in boardnumlist):\n",
    "            boardnumlist[int(user_result)-1] = \"O\"\n",
    "            display_board()\n",
    "            checking_for_winner(boardnumlist)\n",
    "        else:\n",
    "            while user_result.isdigit != True or user_result not in boardnumlist:  \n",
    "                print(\"Sorry that is not an acceptable input\")\n",
    "                user_result = input(\"Hello player 1. In which spot on the Tic-Tac-Toe board would you like to place an O please give your answer in number form number (1-9)\")\n",
    "                if user_result.isdigit() == True and (user_result in boardnumlist):\n",
    "                    boardnumlist[int(user_result)-1] = \"O\"\n",
    "                    display_board()\n",
    "                    checking_for_winner(boardnumlist)\n",
    "                    break\n",
    "    else:\n",
    "        user_result = input(\"Hello player 2. In which spot on the Tic-Tac-Toe board would you like to place an O please give your answer in number form number (1-9)\")\n",
    "        if user_result.isdigit() == True and (user_result in boardnumlist):\n",
    "            boardnumlist[int(user_result)-1] = \"X\"\n",
    "            display_board()\n",
    "            checking_for_winner(boardnumlist)\n",
    "        else:\n",
    "            while user_result.isdigit != True or user_result not in boardnumlist:  \n",
    "                print(\"Sorry that is not an acceptable input\")\n",
    "                user_result = input(\"Hello player 2. In which spot on the Tic-Tac-Toe board would you like to place an O please give your answer in number form number (1-9)\")\n",
    "                if user_result.isdigit() == True and (user_result in boardnumlist):\n",
    "                    boardnumlist[int(user_result)-1] = \"X\"\n",
    "                    display_board()\n",
    "                    checking_for_winner(boardnumlist)\n",
    "                    break\n",
    "                    \n"
   ]
  },
  {
   "cell_type": "code",
   "execution_count": 7,
   "id": "74e22da4",
   "metadata": {},
   "outputs": [],
   "source": [
    "def TicTacToeSimulation():\n",
    "    global winner_check\n",
    "    intro()\n",
    "    player_turn = 0\n",
    "    display_board()\n",
    "    while winner_check == False:\n",
    "        take_user_input_and_validate_it(player_turn,boardnumlist)\n",
    "        player_turn += 1\n",
    "        if player_turn == 9:\n",
    "            print(\"It is a draw!!!\")\n",
    "            break"
   ]
  },
  {
   "cell_type": "code",
   "execution_count": 8,
   "id": "f979590b",
   "metadata": {
    "scrolled": true
   },
   "outputs": [
    {
     "name": "stdout",
     "output_type": "stream",
     "text": [
      "Hello and welcome to Nidhi's Tic-Tac-Toe game\n",
      "In this game player 1 will be O's and player 2 will be X's. Lets Go!\n",
      "1|2|3\n",
      "-----\n",
      "4|5|6\n",
      "-----\n",
      "7|8|9\n",
      "Hello player 1. In which spot on the Tic-Tac-Toe board would you like to place an O please give your answer in number form number (1-9)5\n",
      "1|2|3\n",
      "-----\n",
      "4|O|6\n",
      "-----\n",
      "7|8|9\n",
      "Hello player 2. In which spot on the Tic-Tac-Toe board would you like to place an O please give your answer in number form number (1-9)3\n",
      "1|2|X\n",
      "-----\n",
      "4|O|6\n",
      "-----\n",
      "7|8|9\n",
      "Hello player 1. In which spot on the Tic-Tac-Toe board would you like to place an O please give your answer in number form number (1-9)9\n",
      "1|2|X\n",
      "-----\n",
      "4|O|6\n",
      "-----\n",
      "7|8|O\n",
      "Hello player 2. In which spot on the Tic-Tac-Toe board would you like to place an O please give your answer in number form number (1-9)1\n",
      "X|2|X\n",
      "-----\n",
      "4|O|6\n",
      "-----\n",
      "7|8|O\n",
      "Hello player 1. In which spot on the Tic-Tac-Toe board would you like to place an O please give your answer in number form number (1-9)2\n",
      "X|O|X\n",
      "-----\n",
      "4|O|6\n",
      "-----\n",
      "7|8|O\n",
      "Hello player 2. In which spot on the Tic-Tac-Toe board would you like to place an O please give your answer in number form number (1-9)8\n",
      "X|O|X\n",
      "-----\n",
      "4|O|6\n",
      "-----\n",
      "7|X|O\n",
      "Hello player 1. In which spot on the Tic-Tac-Toe board would you like to place an O please give your answer in number form number (1-9)4\n",
      "X|O|X\n",
      "-----\n",
      "O|O|6\n",
      "-----\n",
      "7|X|O\n",
      "Hello player 2. In which spot on the Tic-Tac-Toe board would you like to place an O please give your answer in number form number (1-9)6\n",
      "X|O|X\n",
      "-----\n",
      "O|O|X\n",
      "-----\n",
      "7|X|O\n",
      "Hello player 1. In which spot on the Tic-Tac-Toe board would you like to place an O please give your answer in number form number (1-9)7\n",
      "X|O|X\n",
      "-----\n",
      "O|O|X\n",
      "-----\n",
      "O|X|O\n",
      "It is a draw!!!\n"
     ]
    }
   ],
   "source": [
    "TicTacToeSimulation()"
   ]
  },
  {
   "cell_type": "code",
   "execution_count": null,
   "id": "30ac7f09",
   "metadata": {},
   "outputs": [],
   "source": []
  },
  {
   "cell_type": "code",
   "execution_count": null,
   "id": "a3fabded",
   "metadata": {},
   "outputs": [],
   "source": []
  }
 ],
 "metadata": {
  "kernelspec": {
   "display_name": "Python 3 (ipykernel)",
   "language": "python",
   "name": "python3"
  },
  "language_info": {
   "codemirror_mode": {
    "name": "ipython",
    "version": 3
   },
   "file_extension": ".py",
   "mimetype": "text/x-python",
   "name": "python",
   "nbconvert_exporter": "python",
   "pygments_lexer": "ipython3",
   "version": "3.9.12"
  }
 },
 "nbformat": 4,
 "nbformat_minor": 5
}
