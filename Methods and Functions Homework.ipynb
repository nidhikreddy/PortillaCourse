{
 "cells": [
  {
   "cell_type": "code",
   "execution_count": 9,
   "id": "058e9406",
   "metadata": {},
   "outputs": [
    {
     "data": {
      "text/plain": [
       "33.49333333333333"
      ]
     },
     "execution_count": 9,
     "metadata": {},
     "output_type": "execute_result"
    }
   ],
   "source": [
    "#Write a function that computes the volume of a sphere given its radius forumla = 4/3 pi r cubbed.\n",
    "def sphere(rad):\n",
    "    rad_cubed = rad**3\n",
    "    rest_formula = 4/3 * 3.14\n",
    "    volume = rad_cubed * rest_formula\n",
    "    return volume\n",
    "\n",
    "sphere(2)\n",
    "        \n",
    "     \n",
    "           "
   ]
  },
  {
   "cell_type": "code",
   "execution_count": 18,
   "id": "a3dfb0b7",
   "metadata": {},
   "outputs": [
    {
     "name": "stdout",
     "output_type": "stream",
     "text": [
      "4 is in range of 3, and 6\n"
     ]
    }
   ],
   "source": [
    "#Write a function that checks whether a number is in a given range (inclusive of high and low)\n",
    "\n",
    "def high_low(high, low, x):\n",
    "    for num in range(low,high,1):\n",
    "        if num == x:\n",
    "            print(f'{x} is in range of {low}, and {high}')\n",
    "        else:\n",
    "            continue\n",
    "high_low(6,3,4)\n",
    "    "
   ]
  },
  {
   "cell_type": "code",
   "execution_count": 20,
   "id": "9950ca7d",
   "metadata": {},
   "outputs": [
    {
     "data": {
      "text/plain": [
       "True"
      ]
     },
     "execution_count": 20,
     "metadata": {},
     "output_type": "execute_result"
    }
   ],
   "source": [
    "Fruits = \"Ntrlajnfr\"\n",
    "Fruits[0].isupper()"
   ]
  },
  {
   "cell_type": "code",
   "execution_count": 32,
   "id": "229e6197",
   "metadata": {},
   "outputs": [
    {
     "name": "stdout",
     "output_type": "stream",
     "text": [
      "true\n",
      "false\n",
      "false\n"
     ]
    }
   ],
   "source": [
    "\n",
    "def fninfg(String):\n",
    "    for letter in String:\n",
    "        if letter.isupper() == True: \n",
    "            print(\"true\") \n",
    "        else:\n",
    "            print(\"false\") \n",
    "fninfg(\"The\")"
   ]
  },
  {
   "cell_type": "code",
   "execution_count": 37,
   "id": "3fe554e0",
   "metadata": {},
   "outputs": [
    {
     "name": "stdout",
     "output_type": "stream",
     "text": [
      "number of lower case number is 14\n",
      "number of upper case numbers is 6\n"
     ]
    }
   ],
   "source": [
    "# Write a python functions that exept a string and return the number of upper and lowercase letters.\n",
    "def upper_lower(mystr):\n",
    "    lower_count = 0\n",
    "    upper_count = 0\n",
    "    for letter in mystr:\n",
    "        if letter.isupper() == True:\n",
    "            upper_count = upper_count + 1\n",
    "        elif letter.islower() == True:\n",
    "            lower_count = lower_count + 1\n",
    "        else:\n",
    "            continue\n",
    "    print(f\"number of lower case number is {lower_count}\")\n",
    "    print(f\"number of upper case numbers is {upper_count}\")\n",
    "upper_lower(\"What are you DOING today\")\n",
    " "
   ]
  },
  {
   "cell_type": "code",
   "execution_count": 43,
   "id": "385792a0",
   "metadata": {},
   "outputs": [
    {
     "name": "stdout",
     "output_type": "stream",
     "text": [
      "[1, 2, 4, 5]\n"
     ]
    }
   ],
   "source": [
    "#Write a python function that takes a list and returns a new list that is unique\n",
    "\n",
    "def my_list(*args):\n",
    "    unique_list = list(set(a))\n",
    "    print(unique_list)\n",
    "my_list(1,1,1,1,2,2,2,2,2,2,2,2,2,2,2,2,2,2,4,4,4,4,4,4,4,4,4,5,5)"
   ]
  },
  {
   "cell_type": "code",
   "execution_count": 57,
   "id": "6225ef61",
   "metadata": {},
   "outputs": [
    {
     "data": {
      "text/plain": [
       "120"
      ]
     },
     "execution_count": 57,
     "metadata": {},
     "output_type": "execute_result"
    }
   ],
   "source": [
    "# Write a python function that takes in numbers and returns the product of those number. \n",
    "def mu(*args):\n",
    "    result = 1\n",
    "    for num in args:\n",
    "        result = result * num\n",
    "    return result\n",
    "mu(1,2,3,4,5)        \n",
    "        \n",
    "    "
   ]
  },
  {
   "cell_type": "code",
   "execution_count": 65,
   "id": "8ff87128",
   "metadata": {},
   "outputs": [
    {
     "data": {
      "text/plain": [
       "False"
      ]
     },
     "execution_count": 65,
     "metadata": {},
     "output_type": "execute_result"
    }
   ],
   "source": [
    "# Write a python function that checks is a word is a palindrome. \n",
    "def master_yoda(sentence):\n",
    "    count = -1\n",
    "    mystring  = ''\n",
    "    wordlist = sentence.split()\n",
    "    for word in sentence:\n",
    "        mystring = mystring+(sentence[count])\n",
    "        mystring = mystring + ' '\n",
    "        count = count-1\n",
    "    if mystring == sentence:\n",
    "        return True\n",
    "    else:\n",
    "        return False\n",
    "master_yoda(\"tacocat\")\n",
    "    "
   ]
  },
  {
   "cell_type": "code",
   "execution_count": null,
   "id": "ba334c8a",
   "metadata": {},
   "outputs": [],
   "source": []
  }
 ],
 "metadata": {
  "kernelspec": {
   "display_name": "Python 3 (ipykernel)",
   "language": "python",
   "name": "python3"
  },
  "language_info": {
   "codemirror_mode": {
    "name": "ipython",
    "version": 3
   },
   "file_extension": ".py",
   "mimetype": "text/x-python",
   "name": "python",
   "nbconvert_exporter": "python",
   "pygments_lexer": "ipython3",
   "version": "3.9.12"
  }
 },
 "nbformat": 4,
 "nbformat_minor": 5
}
