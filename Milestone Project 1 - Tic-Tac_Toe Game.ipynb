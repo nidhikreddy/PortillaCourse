{
 "cells": [
  {
   "cell_type": "code",
   "execution_count": 52,
   "id": "bae74bcc",
   "metadata": {},
   "outputs": [],
   "source": [
    "#This is homewwork problem 1 in which we have a class that accepts to coordinates and has two attributes\n",
    "#The two attributes simply print he two coordinates one of the methods prints the slope and one prints the distance.\n",
    "class Line():\n",
    "    def __init__(self,coor1,coor2):\n",
    "        self.coor1 = coor1\n",
    "        self.coor2 = coor2\n",
    "    def slope(self,coor1,coor2):\n",
    "        distance = str((coor2[1] - coor1[1])/(coor2[0]-coor1[0]))\n",
    "        print(distance)\n",
    "    \n",
    "    def distance(self,coor1,coor2):\n",
    "        n = coor1[1]-coor1[0]\n",
    "        r = coor2[1]-coor2[0]\n",
    "        f = n^2+r^2\n",
    "        d = f**1/2\n",
    "        print(d)\n",
    "        "
   ]
  },
  {
   "cell_type": "code",
   "execution_count": 53,
   "id": "125d5cbb",
   "metadata": {},
   "outputs": [
    {
     "name": "stdout",
     "output_type": "stream",
     "text": [
      "-3.5\n",
      "1.6\n"
     ]
    }
   ],
   "source": [
    "coordinate1 = (3,2)\n",
    "coordinate2 = (8,10)\n",
    "li = Line(coordinate1,coordinate2)\n",
    "li.distance(coordinate1,coordinate2)\n",
    "li.slope(coordinate1,coordinate2)"
   ]
  },
  {
   "cell_type": "code",
   "execution_count": 56,
   "id": "3dce7469",
   "metadata": {
    "scrolled": false
   },
   "outputs": [],
   "source": [
    "#This is homewwork problem 1 in which we have a class that accepts to coordinates and has two attributes\n",
    "#The two attributes return the height ahd radius while one methods rpints the volume while the other methods\n",
    "#prints the surface area.\n",
    "class Cylinder ():\n",
    "    def __init__ (self,height = 1, radius = 1):\n",
    "        self.height = height \n",
    "        self.radius = radius\n",
    "    def Volume(self,height,radius):\n",
    "        v = radius*radius*3.14*height\n",
    "        print(v)\n",
    "    def SurfaceArea (self, radius, height):\n",
    "        sa = ((radius*2)*height)+2*radius*radius*3.14\n",
    "        print(sa)\n",
    "   \n",
    "   "
   ]
  },
  {
   "cell_type": "code",
   "execution_count": 57,
   "id": "16352a29",
   "metadata": {},
   "outputs": [
    {
     "name": "stdout",
     "output_type": "stream",
     "text": [
      "37.120000000000005\n"
     ]
    }
   ],
   "source": [
    "c = Cylinder(2,3)\n",
    "\n",
    "c.SurfaceArea(2,3)\n",
    "    \n",
    "    "
   ]
  },
  {
   "cell_type": "code",
   "execution_count": 69,
   "id": "3fc14aed",
   "metadata": {
    "scrolled": true
   },
   "outputs": [],
   "source": [
    "#For this challenge, create a bank account class that has two attributes: owner, balance, and two methods: desposit\n",
    "#and Withdraw. As an added requirment, withdrawls may not exceed available balance. Instamtiate your class, make \n",
    "#several deposits and withdrawls, and test to make surethe account can't be overdrawn. \n",
    "\n",
    "class Account():\n",
    "    def __init__ (self, owner, balance):\n",
    "        self.owner = owner\n",
    "        self.balance = balance\n",
    "    def deposit(self, deposit):\n",
    "        self.balance = self.balance + deposit\n",
    "        print(\"Deposit excepted\")\n",
    "        print (\"We just added your deposit to your balance\")\n",
    "    def withdrawl (self, withdrawl):\n",
    "        if withdrawl> self.balance:\n",
    "            print(\"Sorry, Funds unavailable\")\n",
    "        else:\n",
    "            print(\"Wtihdrawl excepted\")\n",
    "            self.balance = self.balance - withdrawl\n",
    "            print(\"we just withdrew money from your account\")\n",
    "        "
   ]
  },
  {
   "cell_type": "code",
   "execution_count": 70,
   "id": "4f0cf95b",
   "metadata": {},
   "outputs": [
    {
     "data": {
      "text/plain": [
       "500"
      ]
     },
     "execution_count": 70,
     "metadata": {},
     "output_type": "execute_result"
    }
   ],
   "source": [
    "c = Account(\"Nidhi\",500)\n",
    "c.owner\n",
    "c.balance"
   ]
  },
  {
   "cell_type": "code",
   "execution_count": 71,
   "id": "ce39c62b",
   "metadata": {
    "scrolled": true
   },
   "outputs": [
    {
     "name": "stdout",
     "output_type": "stream",
     "text": [
      "Deposit excepted\n",
      "We just added your deposit to your balance\n"
     ]
    }
   ],
   "source": [
    "c.deposit(300)"
   ]
  },
  {
   "cell_type": "code",
   "execution_count": 72,
   "id": "7ee92e32",
   "metadata": {},
   "outputs": [
    {
     "name": "stdout",
     "output_type": "stream",
     "text": [
      "Wtihdrawl excepted\n",
      "we just withdrew money from your account\n"
     ]
    }
   ],
   "source": [
    "c.withdrawl(400)"
   ]
  },
  {
   "cell_type": "code",
   "execution_count": 73,
   "id": "0811a2f0",
   "metadata": {},
   "outputs": [
    {
     "data": {
      "text/plain": [
       "400"
      ]
     },
     "execution_count": 73,
     "metadata": {},
     "output_type": "execute_result"
    }
   ],
   "source": [
    "c.balance"
   ]
  },
  {
   "cell_type": "code",
   "execution_count": null,
   "id": "bdab991b",
   "metadata": {},
   "outputs": [],
   "source": []
  }
 ],
 "metadata": {
  "kernelspec": {
   "display_name": "Python 3 (ipykernel)",
   "language": "python",
   "name": "python3"
  },
  "language_info": {
   "codemirror_mode": {
    "name": "ipython",
    "version": 3
   },
   "file_extension": ".py",
   "mimetype": "text/x-python",
   "name": "python",
   "nbconvert_exporter": "python",
   "pygments_lexer": "ipython3",
   "version": "3.9.12"
  }
 },
 "nbformat": 4,
 "nbformat_minor": 5
}
