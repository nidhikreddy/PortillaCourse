{
 "cells": [
  {
   "cell_type": "code",
   "execution_count": 6,
   "id": "767d35b0",
   "metadata": {},
   "outputs": [
    {
     "name": "stdout",
     "output_type": "stream",
     "text": [
      "start\n",
      "s\n",
      "sentence\n"
     ]
    }
   ],
   "source": [
    "# print the words that start with s.\n",
    "st = 'Print only the words that start with s in this sentence'\n",
    "question_1_st_split = st.split()\n",
    "question_1_st_split\n",
    "for word in question_1_st_split:\n",
    "    if word[0] == 's':\n",
    "        print(word)\n",
    "    else:\n",
    "        continue"
   ]
  },
  {
   "cell_type": "code",
   "execution_count": 8,
   "id": "6b6e8769",
   "metadata": {},
   "outputs": [
    {
     "name": "stdout",
     "output_type": "stream",
     "text": [
      "0\n",
      "2\n",
      "4\n",
      "6\n",
      "8\n",
      "10\n"
     ]
    }
   ],
   "source": [
    "# print all the even number from 1-10.\n",
    "for number in range(0,11):\n",
    "    if number % 2 == 0:\n",
    "        print(number)\n",
    "    else:\n",
    "        continue\n"
   ]
  },
  {
   "cell_type": "code",
   "execution_count": 19,
   "id": "cf573fda",
   "metadata": {},
   "outputs": [
    {
     "data": {
      "text/plain": [
       "[3, 6, 9, 12, 15, 18, 21, 24, 27, 30, 33, 36, 39, 42, 45, 48]"
      ]
     },
     "execution_count": 19,
     "metadata": {},
     "output_type": "execute_result"
    }
   ],
   "source": [
    "#Use a List Comprehension to create a list of all numbers between 1 and 50 that are divisible by 3.\n",
    "mylist = [x for x in range(1,51) if x % 3 == 0] \n",
    "mylist"
   ]
  },
  {
   "cell_type": "code",
   "execution_count": 27,
   "id": "10daede8",
   "metadata": {},
   "outputs": [
    {
     "name": "stdout",
     "output_type": "stream",
     "text": [
      "odd\n",
      "odd\n",
      "even\n",
      "even\n",
      "even\n",
      "even\n",
      "even\n",
      "odd\n",
      "even\n",
      "even\n",
      "even\n",
      "even\n",
      "odd\n"
     ]
    }
   ],
   "source": [
    "\n",
    "#Go through the string below and if the length of a word is even print \"even!\"\n",
    "st = 'Print every word in this sentence that has an even number of letters'\n",
    "question_4_new_st_split = st.split()\n",
    "for word in question_4_new_st_split:\n",
    "    if (len(word)) % 2 == 0: \n",
    "        print(\"even\")\n",
    "    else:\n",
    "        print(\"odd\")"
   ]
  },
  {
   "cell_type": "code",
   "execution_count": 31,
   "id": "ab17c875",
   "metadata": {},
   "outputs": [
    {
     "name": "stdout",
     "output_type": "stream",
     "text": [
      "3Fizz\n",
      "5 Buzz\n",
      "6Fizz\n",
      "9Fizz\n",
      "10 Buzz\n",
      "12Fizz\n",
      " 15 FizzBuzz\n",
      "18Fizz\n",
      "20 Buzz\n",
      "21Fizz\n",
      "24Fizz\n",
      "25 Buzz\n",
      "27Fizz\n",
      " 30 FizzBuzz\n",
      "33Fizz\n",
      "35 Buzz\n",
      "36Fizz\n",
      "39Fizz\n",
      "40 Buzz\n",
      "42Fizz\n",
      " 45 FizzBuzz\n",
      "48Fizz\n",
      "50 Buzz\n",
      "51Fizz\n",
      "54Fizz\n",
      "55 Buzz\n",
      "57Fizz\n",
      " 60 FizzBuzz\n",
      "63Fizz\n",
      "65 Buzz\n",
      "66Fizz\n",
      "69Fizz\n",
      "70 Buzz\n",
      "72Fizz\n",
      " 75 FizzBuzz\n",
      "78Fizz\n",
      "80 Buzz\n",
      "81Fizz\n",
      "84Fizz\n",
      "85 Buzz\n",
      "87Fizz\n",
      " 90 FizzBuzz\n",
      "93Fizz\n",
      "95 Buzz\n",
      "96Fizz\n",
      "99Fizz\n",
      "100 Buzz\n"
     ]
    }
   ],
   "source": [
    "# Write a program that prints the integers from 1 to 100. But for multiples of \n",
    "#three print \"Fizz\" instead of the number, and for the multiples of five print \"Buzz\".\n",
    "#For numbers which are multiples of both three and five print \"FizzBuzz\".\n",
    "\n",
    "for number in range(1, 101):\n",
    "    if number % 3 == 0 and number % 5 == 0: \n",
    "        print(f\" {number} FizzBuzz\")\n",
    "    elif number % 3 == 0:\n",
    "        print(f\"{number}Fizz\")\n",
    "    elif number % 5 == 0:\n",
    "        print(f\"{number} Buzz\")\n",
    "    else:\n",
    "        continue"
   ]
  },
  {
   "cell_type": "code",
   "execution_count": 69,
   "id": "a56f2158",
   "metadata": {},
   "outputs": [
    {
     "data": {
      "text/plain": [
       "['C', 'a', 'l', 'o', 't', 'f', 'l', 'o', 'e', 'w', 'i', 't', 's']"
      ]
     },
     "execution_count": 69,
     "metadata": {},
     "output_type": "execute_result"
    }
   ],
   "source": [
    " \n",
    " # Use List Comprehension to create a list of the first letters of every word in the string below:\n",
    "st = 'Create a list of the first letters of every word in this string'\n",
    "question_6_new_st_split = st.split()\n",
    "\n",
    "my_list1 = []\n",
    "for word in question_6_new_st_split:\n",
    "    my_list1.append(word[0])\n",
    "my_list1"
   ]
  },
  {
   "cell_type": "code",
   "execution_count": null,
   "id": "27a1892e",
   "metadata": {},
   "outputs": [],
   "source": [
    "\n"
   ]
  },
  {
   "cell_type": "code",
   "execution_count": null,
   "id": "d4033abb",
   "metadata": {},
   "outputs": [],
   "source": []
  }
 ],
 "metadata": {
  "kernelspec": {
   "display_name": "Python 3 (ipykernel)",
   "language": "python",
   "name": "python3"
  },
  "language_info": {
   "codemirror_mode": {
    "name": "ipython",
    "version": 3
   },
   "file_extension": ".py",
   "mimetype": "text/x-python",
   "name": "python",
   "nbconvert_exporter": "python",
   "pygments_lexer": "ipython3",
   "version": "3.9.12"
  }
 },
 "nbformat": 4,
 "nbformat_minor": 5
}
