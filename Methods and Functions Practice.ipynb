{
 "cells": [
  {
   "cell_type": "code",
   "execution_count": 20,
   "id": "969fb39d",
   "metadata": {
    "scrolled": true
   },
   "outputs": [],
   "source": [
    "# LESSER OF TWO EVENS: Write a function that returns the lesser of two given numbers if both numbers are even,\n",
    "# but returns the greater if one or both numbers are odd\n",
    "\n",
    "def myfunc(a,b):\n",
    "    if a % 2 == 0 and b % 2 == 0:\n",
    "        if a < b:\n",
    "            return a\n",
    "        else:\n",
    "            return b\n",
    "    else:\n",
    "        if a > b:\n",
    "            return a \n",
    "        else:\n",
    "            return b\n"
   ]
  },
  {
   "cell_type": "code",
   "execution_count": 19,
   "id": "50e001d9",
   "metadata": {},
   "outputs": [],
   "source": [
    "# ANIMAL CRACKERS: Write a function takes a two-word string and returns True if both words begin with same letter.\n",
    "    \n",
    "def myfunc2(mystring,mystring2):\n",
    "    if mystring[0] == mystring2[0]:\n",
    "        return True\n",
    "    else:\n",
    "        return False\n",
    "\n",
    "    "
   ]
  },
  {
   "cell_type": "code",
   "execution_count": 17,
   "id": "fe1199e7",
   "metadata": {},
   "outputs": [],
   "source": [
    "#MAKES TWENTY: Given two integers, return True if the sum of the integers is 20 or if one of the integers is 20\n",
    "# If not, return False\n",
    "\n",
    "def myfunc3(a,b):\n",
    "    if a+b == 20:\n",
    "        return True\n",
    "    elif a == 20:\n",
    "        return True\n",
    "    elif b == 20 :\n",
    "        return True\n",
    "    else:\n",
    "        return False\n",
    "\n",
    "    "
   ]
  },
  {
   "cell_type": "code",
   "execution_count": 68,
   "id": "3216572f",
   "metadata": {},
   "outputs": [
    {
     "data": {
      "text/plain": [
       "'MacDonald'"
      ]
     },
     "execution_count": 68,
     "metadata": {},
     "output_type": "execute_result"
    }
   ],
   "source": [
    "# OLD MACDONALD: Write a function that capitalizes the first and fourth letters of a name\n",
    "def myfunc4(name):\n",
    "    mystring = ''\n",
    "    mystring2 = ''\n",
    "    \n",
    "    x = name[0].upper()\n",
    "    y = name[3].upper()\n",
    "    z = name[1:3]\n",
    "    a = name[4:]\n",
    "    \n",
    "    final_string = x+z+y+a\n",
    "    \n",
    "     # y = name.capitalize()\n",
    "    #y = name.replace(name[0], name[0].upper(), 1 )\n",
    "    #x  = y.replace[(name[3], name[3].upper(), 1 )\n",
    "    \n",
    "    #mystring + name[0].upper\n",
    "   # mystring2 + name[3].upper\n",
    "    #name.replace(name[0], mystring )\n",
    "    #name.replace(name[3], mystring2)\n",
    "    return final_string\n",
    "myfunc4('macdonald')"
   ]
  },
  {
   "cell_type": "code",
   "execution_count": 1,
   "id": "f1664ca4",
   "metadata": {},
   "outputs": [
    {
     "data": {
      "text/plain": [
       "'d n e k e e w   e h t   r o f   s n a l p   y n a   e v a h   u o y   o d   , o l l e H '"
      ]
     },
     "execution_count": 1,
     "metadata": {},
     "output_type": "execute_result"
    }
   ],
   "source": [
    "\n",
    "def master_yoda(sentence):\n",
    "    count = -1\n",
    "    mystring  = ''\n",
    "    wordlist = sentence.split()\n",
    "    for word in sentence:\n",
    "        mystring = mystring+(sentence[count])\n",
    "        mystring = mystring + ' '\n",
    "        count = count-1\n",
    "    return mystring\n",
    "master_yoda(\"Hello, do you have any plans for the weekend\")"
   ]
  },
  {
   "cell_type": "code",
   "execution_count": null,
   "id": "fbba7aa0",
   "metadata": {},
   "outputs": [],
   "source": [
    "\n",
    "        "
   ]
  },
  {
   "cell_type": "code",
   "execution_count": 18,
   "id": "3af1da60",
   "metadata": {},
   "outputs": [
    {
     "data": {
      "text/plain": [
       "True"
      ]
     },
     "execution_count": 18,
     "metadata": {},
     "output_type": "execute_result"
    }
   ],
   "source": [
    "#ALMOST THERE: Given an integer n, return True if n is within 10 of either 100 or 200.\n",
    "\n",
    "def myfunc6(n):\n",
    "    if n == 91 or 92 or 93 or 94 or 95 or 96 or 97 or 98 or 99 or 100 or 101 or 102 or 103 or 104 or 105 or 106 or 107 or 108 or 100 or 110:\n",
    "        return True\n",
    "    elif n == 191 or 192 or 193 or 194 or 195 or 196 or 197 or 198 or 199 or 200 or 201 or 201 or 203 or 204 or 205 or 206 or 207 or 208 or 209 or 210:\n",
    "        return True\n",
    "    else:\n",
    "        return False\n",
    "myfunc6(91)"
   ]
  },
  {
   "cell_type": "code",
   "execution_count": 38,
   "id": "a498d3d2",
   "metadata": {},
   "outputs": [
    {
     "data": {
      "text/plain": [
       "'HHHeeellllllooo'"
      ]
     },
     "execution_count": 38,
     "metadata": {},
     "output_type": "execute_result"
    }
   ],
   "source": [
    "# PAPER DOLL: Given a string, return a string where for every character in the original there are three characters\n",
    "def paper_doll (mystr):\n",
    "    return_string = ''\n",
    "    for letter in mystr:\n",
    "        x3 = letter*3\n",
    "        return_string += x3\n",
    "    return return_string\n",
    "paper_doll('Hello')"
   ]
  },
  {
   "cell_type": "code",
   "execution_count": 40,
   "id": "71082c80",
   "metadata": {
    "scrolled": true
   },
   "outputs": [
    {
     "ename": "TypeError",
     "evalue": "'int' object is not iterable",
     "output_type": "error",
     "traceback": [
      "\u001b[0;31m---------------------------------------------------------------------------\u001b[0m",
      "\u001b[0;31mTypeError\u001b[0m                                 Traceback (most recent call last)",
      "Input \u001b[0;32mIn [40]\u001b[0m, in \u001b[0;36m<cell line: 16>\u001b[0;34m()\u001b[0m\n\u001b[1;32m     14\u001b[0m     \u001b[38;5;28;01melse\u001b[39;00m:\n\u001b[1;32m     15\u001b[0m         \u001b[38;5;28;01mpass\u001b[39;00m\n\u001b[0;32m---> 16\u001b[0m \u001b[43mblackjack\u001b[49m\u001b[43m(\u001b[49m\u001b[38;5;241;43m2\u001b[39;49m\u001b[43m,\u001b[49m\u001b[38;5;241;43m7\u001b[39;49m\u001b[43m,\u001b[49m\u001b[38;5;241;43m9\u001b[39;49m\u001b[43m)\u001b[49m\n",
      "Input \u001b[0;32mIn [40]\u001b[0m, in \u001b[0;36mblackjack\u001b[0;34m(a, b, c)\u001b[0m\n\u001b[1;32m      2\u001b[0m p \u001b[38;5;241m=\u001b[39m a\u001b[38;5;241m+\u001b[39mb\u001b[38;5;241m+\u001b[39mc\n\u001b[1;32m      3\u001b[0m \u001b[38;5;28;01mif\u001b[39;00m p \u001b[38;5;241m<\u001b[39m\u001b[38;5;241m=\u001b[39m \u001b[38;5;241m21\u001b[39m:\n\u001b[0;32m----> 4\u001b[0m     \u001b[38;5;28;01mreturn\u001b[39;00m \u001b[38;5;28;43msum\u001b[39;49m\u001b[43m(\u001b[49m\u001b[43mp\u001b[49m\u001b[43m)\u001b[49m\n\u001b[1;32m      5\u001b[0m \u001b[38;5;28;01melif\u001b[39;00m p \u001b[38;5;241m>\u001b[39m \u001b[38;5;241m21\u001b[39m:\n\u001b[1;32m      6\u001b[0m     \u001b[38;5;28;01mif\u001b[39;00m a \u001b[38;5;129;01mor\u001b[39;00m b \u001b[38;5;129;01mor\u001b[39;00m c \u001b[38;5;241m==\u001b[39m \u001b[38;5;241m11\u001b[39m:\n",
      "\u001b[0;31mTypeError\u001b[0m: 'int' object is not iterable"
     ]
    }
   ],
   "source": [
    "def blackjack(a,b,c,):\n",
    "    p = a+b+c\n",
    "    if p <= 21:\n",
    "        return sum(p)\n",
    "    elif p > 21:\n",
    "        if a or b or c == 11:\n",
    "            w = p-10\n",
    "            if w > 21:\n",
    "                return\"Bust\"\n",
    "            else:\n",
    "                return w\n",
    "        else:\n",
    "            return \"Bust\"\n",
    "    else:\n",
    "        pass\n",
    "blackjack(2,7,9)\n",
    "        "
   ]
  },
  {
   "cell_type": "code",
   "execution_count": null,
   "id": "453ae750",
   "metadata": {},
   "outputs": [],
   "source": []
  }
 ],
 "metadata": {
  "kernelspec": {
   "display_name": "Python 3 (ipykernel)",
   "language": "python",
   "name": "python3"
  },
  "language_info": {
   "codemirror_mode": {
    "name": "ipython",
    "version": 3
   },
   "file_extension": ".py",
   "mimetype": "text/x-python",
   "name": "python",
   "nbconvert_exporter": "python",
   "pygments_lexer": "ipython3",
   "version": "3.9.12"
  }
 },
 "nbformat": 4,
 "nbformat_minor": 5
}
