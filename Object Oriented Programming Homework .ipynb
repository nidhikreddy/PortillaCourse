{
 "cells": [
  {
   "cell_type": "code",
   "execution_count": 44,
   "id": "38770ece",
   "metadata": {},
   "outputs": [],
   "source": [
    "# Fill in the Line class methods to accept coordinates as a pair of tuples\n",
    "# and return the slope and distance of the line\n",
    "\n",
    "class Line:\n",
    "    def __init__(self, c1, c2):\n",
    "        self.c1 = c1\n",
    "        self.c2 = c2\n",
    "        # we want c1 and c2 as a tuple with the x corrdinate first and the y coordinate second\n",
    "    def distance(self):\n",
    "        x1 = self.c1[0]\n",
    "        y1 = self.c1[1]\n",
    "        x2 = self.c2[0]\n",
    "        y2 = self.c2[1]\n",
    "        d = ((x2- x1)**2 + (y2 - y1)**2)**(1/2)\n",
    "        return d\n",
    "    def slope(self):\n",
    "        x1 = self.c1[0]\n",
    "        y1 = self.c1[1]\n",
    "        x2 = self.c2[0]\n",
    "        y2 = self.c2[1]\n",
    "        s = (y2 - y1)/(x2 - x1)\n",
    "        return s\n",
    "         \n",
    "        \n",
    "        \n",
    "        \n",
    "    "
   ]
  },
  {
   "cell_type": "code",
   "execution_count": 45,
   "id": "a7e31e40",
   "metadata": {},
   "outputs": [
    {
     "name": "stdout",
     "output_type": "stream",
     "text": [
      "5.385164807134504\n"
     ]
    }
   ],
   "source": [
    "line = Line((5,9),(3,4))\n",
    "d = line.distance()\n",
    "print(d)\n",
    "\n",
    "\n",
    "\n",
    "\n",
    "    "
   ]
  },
  {
   "cell_type": "code",
   "execution_count": 46,
   "id": "a8363419",
   "metadata": {
    "scrolled": true
   },
   "outputs": [
    {
     "name": "stdout",
     "output_type": "stream",
     "text": [
      "2.5\n"
     ]
    }
   ],
   "source": [
    "line = Line((5,9),(3,4))\n",
    "s = line.slope()\n",
    "print(s)"
   ]
  },
  {
   "cell_type": "code",
   "execution_count": 5,
   "id": "d10889cf",
   "metadata": {},
   "outputs": [],
   "source": [
    "# Volume = pi * radius^2 * height \n",
    "# Surface Area = 2 * pi * radius^2 + (2 * pi * radius * height)\n",
    "class Cylinder:\n",
    "    \n",
    "    def __init__(self,height=1,radius=1):\n",
    "        self.height = height \n",
    "        self.radius = radius\n",
    "        \n",
    "        \n",
    "    def volume(self):\n",
    "        r = self.radius\n",
    "        h = self.height\n",
    "        v_answer = 3.1415 * (r * r) * h\n",
    "        return v_answer\n",
    "    \n",
    "    def surface_area(self):\n",
    "        r = self.radius\n",
    "        h = self.height\n",
    "        sa_answer = (2 * 3.1415 * (r*r)) + ((2 * 3.1415 * r) * (h))\n",
    "        return sa_answer\n",
    "        \n",
    "        \n",
    "    \n",
    "        "
   ]
  },
  {
   "cell_type": "code",
   "execution_count": 6,
   "id": "18d93ca4",
   "metadata": {},
   "outputs": [
    {
     "name": "stdout",
     "output_type": "stream",
     "text": [
      "94.245\n"
     ]
    }
   ],
   "source": [
    "gobble = Cylinder(2,3)\n",
    "c = gobble.surface_area()\n",
    "print(c)"
   ]
  },
  {
   "cell_type": "code",
   "execution_count": 7,
   "id": "77c5794e",
   "metadata": {},
   "outputs": [],
   "source": [
    "#you are given a string s in the input but polycarp needs help printing the input out! Please read in the input\n",
    "#and then print it out"
   ]
  },
  {
   "cell_type": "code",
   "execution_count": 9,
   "id": "6856f232",
   "metadata": {},
   "outputs": [
    {
     "name": "stdout",
     "output_type": "stream",
     "text": [
      "3\n",
      "asdf\n",
      "asdf\n",
      "qwerf\n",
      "qwerf\n",
      "qewtasd\n",
      "qewtasd\n"
     ]
    }
   ],
   "source": [
    "t = int(input())\n",
    "for i in range(t):\n",
    "    s = input()\n",
    "    print(s)\n"
   ]
  },
  {
   "cell_type": "code",
   "execution_count": null,
   "id": "f16b42da",
   "metadata": {},
   "outputs": [],
   "source": []
  }
 ],
 "metadata": {
  "kernelspec": {
   "display_name": "Python 3 (ipykernel)",
   "language": "python",
   "name": "python3"
  },
  "language_info": {
   "codemirror_mode": {
    "name": "ipython",
    "version": 3
   },
   "file_extension": ".py",
   "mimetype": "text/x-python",
   "name": "python",
   "nbconvert_exporter": "python",
   "pygments_lexer": "ipython3",
   "version": "3.9.12"
  }
 },
 "nbformat": 4,
 "nbformat_minor": 5
}
