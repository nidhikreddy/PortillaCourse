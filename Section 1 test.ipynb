{
 "cells": [
  {
   "cell_type": "code",
   "execution_count": 4,
   "id": "6352c258",
   "metadata": {},
   "outputs": [],
   "source": [
    "# There are two diferent types of numbers we have integers, and floating point numbers. Integers are hole numbers,\n",
    "#flaoting point nubmer have a decimal point and integers do not. "
   ]
  },
  {
   "cell_type": "code",
   "execution_count": 5,
   "id": "920b74cd",
   "metadata": {},
   "outputs": [],
   "source": [
    "# A string is a string of letters, all strings can be signified with double or single quotes. "
   ]
  },
  {
   "cell_type": "code",
   "execution_count": 3,
   "id": "401ec1fc",
   "metadata": {},
   "outputs": [],
   "source": [
    "# A lists is a group of item separated by commas, it can hold different data types and are signified by square \n",
    "# brackets"
   ]
  },
  {
   "cell_type": "code",
   "execution_count": 6,
   "id": "5557a913",
   "metadata": {},
   "outputs": [],
   "source": [
    "# A Tuple is like a string exept the items in the tuple cannot be changed. Tuples are signified with parathesis \n",
    "# insted are square brackets."
   ]
  },
  {
   "cell_type": "code",
   "execution_count": 7,
   "id": "ad428d36",
   "metadata": {},
   "outputs": [],
   "source": [
    "# Dictionaries are like lists but store data in a key: value format so you can call values based on its key. \n",
    "# Dicionaries can hold different data types and separates by commas and there is a colon beetween the key nad value."
   ]
  },
  {
   "cell_type": "code",
   "execution_count": 69,
   "id": "8edfa530",
   "metadata": {},
   "outputs": [
    {
     "data": {
      "text/plain": [
       "100.25"
      ]
     },
     "execution_count": 69,
     "metadata": {},
     "output_type": "execute_result"
    }
   ],
   "source": [
    "0.25+100/2-1 + 51**2/51"
   ]
  },
  {
   "cell_type": "code",
   "execution_count": null,
   "id": "25578bab",
   "metadata": {},
   "outputs": [],
   "source": [
    "1. 44"
   ]
  },
  {
   "cell_type": "code",
   "execution_count": null,
   "id": "5efc9a0a",
   "metadata": {},
   "outputs": [],
   "source": [
    "2. 29"
   ]
  },
  {
   "cell_type": "code",
   "execution_count": null,
   "id": "397cea96",
   "metadata": {},
   "outputs": [],
   "source": [
    "3. 34"
   ]
  },
  {
   "cell_type": "code",
   "execution_count": 13,
   "id": "506f5504",
   "metadata": {},
   "outputs": [],
   "source": [
    "# The type result of 3 + 1.5 + 4 is going to be a floating point number,8.5. "
   ]
  },
  {
   "cell_type": "code",
   "execution_count": 14,
   "id": "1fdb25b6",
   "metadata": {},
   "outputs": [
    {
     "data": {
      "text/plain": [
       "4"
      ]
     },
     "execution_count": 14,
     "metadata": {},
     "output_type": "execute_result"
    }
   ],
   "source": [
    "# you would use two * signs two square a number. \n",
    "2**2"
   ]
  },
  {
   "cell_type": "code",
   "execution_count": 17,
   "id": "018333dc",
   "metadata": {},
   "outputs": [
    {
     "data": {
      "text/plain": [
       "7.0"
      ]
     },
     "execution_count": 17,
     "metadata": {},
     "output_type": "execute_result"
    }
   ],
   "source": [
    "# You can still use two * sign two find the square root, but you have to have a 0.5 after the two * signs.\n",
    "49**0.5\n",
    "\n"
   ]
  },
  {
   "cell_type": "code",
   "execution_count": 18,
   "id": "269734a4",
   "metadata": {},
   "outputs": [
    {
     "data": {
      "text/plain": [
       "'e'"
      ]
     },
     "execution_count": 18,
     "metadata": {},
     "output_type": "execute_result"
    }
   ],
   "source": [
    "# Given s = 'hello', doing s[1] will give you 'e'.\n",
    "s = 'hello'\n",
    "s[1]"
   ]
  },
  {
   "cell_type": "code",
   "execution_count": 24,
   "id": "4d3be53e",
   "metadata": {},
   "outputs": [
    {
     "data": {
      "text/plain": [
       "('o', 'l', 'l', 'e', 'h')"
      ]
     },
     "execution_count": 24,
     "metadata": {},
     "output_type": "execute_result"
    }
   ],
   "source": [
    "# you can spell 'hello'backwards by doing s[4:5], s[3:4],s[2:3], s[1:2],s[0:1]. \n",
    "s[4:5], s[3:4],s[2:3], s[1:2],s[0:1]"
   ]
  },
  {
   "cell_type": "code",
   "execution_count": 25,
   "id": "5831b786",
   "metadata": {},
   "outputs": [],
   "source": [
    "# There are two ways that you can get the letter 'o' out of 'hello'.\n"
   ]
  },
  {
   "cell_type": "code",
   "execution_count": 26,
   "id": "1afda7ef",
   "metadata": {},
   "outputs": [
    {
     "data": {
      "text/plain": [
       "'o'"
      ]
     },
     "execution_count": 26,
     "metadata": {},
     "output_type": "execute_result"
    }
   ],
   "source": [
    "# method number 1\n",
    "s[4]"
   ]
  },
  {
   "cell_type": "code",
   "execution_count": 27,
   "id": "518a8595",
   "metadata": {},
   "outputs": [
    {
     "data": {
      "text/plain": [
       "'o'"
      ]
     },
     "execution_count": 27,
     "metadata": {},
     "output_type": "execute_result"
    }
   ],
   "source": [
    "# method number 2\n",
    "s[4:5]"
   ]
  },
  {
   "cell_type": "code",
   "execution_count": 28,
   "id": "a9657e1d",
   "metadata": {},
   "outputs": [],
   "source": [
    "# I can build te list [0,0,0] in two different ways."
   ]
  },
  {
   "cell_type": "code",
   "execution_count": 29,
   "id": "407b8601",
   "metadata": {},
   "outputs": [
    {
     "data": {
      "text/plain": [
       "[0, 0, 0]"
      ]
     },
     "execution_count": 29,
     "metadata": {},
     "output_type": "execute_result"
    }
   ],
   "source": [
    "# Method number 1\n",
    "[0,0,0]"
   ]
  },
  {
   "cell_type": "code",
   "execution_count": 31,
   "id": "72d80226",
   "metadata": {},
   "outputs": [
    {
     "data": {
      "text/plain": [
       "[0, 0, 0]"
      ]
     },
     "execution_count": 31,
     "metadata": {},
     "output_type": "execute_result"
    }
   ],
   "source": [
    "# method number 2\n",
    "r = 0 \n",
    "[r,r,r]"
   ]
  },
  {
   "cell_type": "code",
   "execution_count": 32,
   "id": "3429c7e6",
   "metadata": {},
   "outputs": [
    {
     "data": {
      "text/plain": [
       "[0, 0.0, 'zero']"
      ]
     },
     "execution_count": 32,
     "metadata": {},
     "output_type": "execute_result"
    }
   ],
   "source": [
    "[0, 0.0,'zero']"
   ]
  },
  {
   "cell_type": "code",
   "execution_count": 34,
   "id": "7ab25ffc",
   "metadata": {},
   "outputs": [],
   "source": [
    "#I will reasign 'hello'to say goodbye.\n",
    "list3 = [1,2,[3,4,'hello']]\n",
    "list3[2][2] = 'goodbye'"
   ]
  },
  {
   "cell_type": "code",
   "execution_count": 35,
   "id": "a3e96c81",
   "metadata": {},
   "outputs": [
    {
     "data": {
      "text/plain": [
       "'goodbye'"
      ]
     },
     "execution_count": 35,
     "metadata": {},
     "output_type": "execute_result"
    }
   ],
   "source": [
    "list3[2][2]"
   ]
  },
  {
   "cell_type": "code",
   "execution_count": 36,
   "id": "7bb415f6",
   "metadata": {},
   "outputs": [
    {
     "data": {
      "text/plain": [
       "[1, 2, [3, 4, 'goodbye']]"
      ]
     },
     "execution_count": 36,
     "metadata": {},
     "output_type": "execute_result"
    }
   ],
   "source": [
    "list3"
   ]
  },
  {
   "cell_type": "code",
   "execution_count": 40,
   "id": "cd0d7f0c",
   "metadata": {},
   "outputs": [],
   "source": [
    "# YOu can you the order function to reorder number or letters. \n",
    "list4 = [5,3,4,6,1]\n",
    "list4.sort()"
   ]
  },
  {
   "cell_type": "code",
   "execution_count": 41,
   "id": "118c8b81",
   "metadata": {},
   "outputs": [
    {
     "data": {
      "text/plain": [
       "[1, 3, 4, 5, 6]"
      ]
     },
     "execution_count": 41,
     "metadata": {},
     "output_type": "execute_result"
    }
   ],
   "source": [
    "list4"
   ]
  },
  {
   "cell_type": "code",
   "execution_count": 42,
   "id": "a7097365",
   "metadata": {},
   "outputs": [
    {
     "data": {
      "text/plain": [
       "'hello'"
      ]
     },
     "execution_count": 42,
     "metadata": {},
     "output_type": "execute_result"
    }
   ],
   "source": [
    "# you can grab 'hello' based on it's key.\n",
    "d = {'simple_key':'hello'}\n",
    "d['simple_key']"
   ]
  },
  {
   "cell_type": "code",
   "execution_count": 43,
   "id": "dfde82ef",
   "metadata": {},
   "outputs": [
    {
     "data": {
      "text/plain": [
       "'hello'"
      ]
     },
     "execution_count": 43,
     "metadata": {},
     "output_type": "execute_result"
    }
   ],
   "source": [
    "t = {'k1':{'k2':'hello'}}\n",
    "# Grab 'hello'\n",
    "t['k1']['k2']"
   ]
  },
  {
   "cell_type": "code",
   "execution_count": 48,
   "id": "88579012",
   "metadata": {},
   "outputs": [
    {
     "data": {
      "text/plain": [
       "['hello']"
      ]
     },
     "execution_count": 48,
     "metadata": {},
     "output_type": "execute_result"
    }
   ],
   "source": [
    "# Getting a little tricker\n",
    "f = {'k1':[{'nest_key':['this is deep',['hello']]}]}\n",
    "#Grab hello\n",
    "f['k1'][0]['nest_key'][1]"
   ]
  },
  {
   "cell_type": "code",
   "execution_count": 57,
   "id": "dcefbfb9",
   "metadata": {},
   "outputs": [
    {
     "data": {
      "text/plain": [
       "['hello']"
      ]
     },
     "execution_count": 57,
     "metadata": {},
     "output_type": "execute_result"
    }
   ],
   "source": [
    "# This will be hard and annoying!\n",
    "k = {'k1':[1,2,{'k2':['this is tricky',{'tough':[1,2,['hello']]}]}]}\n",
    "#Grab Hello\n",
    "k['k1'][2]['k2'][1]['tough'][2]\n"
   ]
  },
  {
   "cell_type": "code",
   "execution_count": 58,
   "id": "da0d9db9",
   "metadata": {},
   "outputs": [],
   "source": [
    "# The major difference between a list and a tuple is immutability. While items in a list can be changes. In a tuple\n",
    "# they cannot. "
   ]
  },
  {
   "cell_type": "code",
   "execution_count": 59,
   "id": "09e71d7a",
   "metadata": {},
   "outputs": [
    {
     "data": {
      "text/plain": [
       "(1, 2, 3, 4, 5, 6, 7, 8, 9, 10)"
      ]
     },
     "execution_count": 59,
     "metadata": {},
     "output_type": "execute_result"
    }
   ],
   "source": [
    "# A tuple looks no different from a list exept it has parenthesis instead of square brackets surrounding the items\n",
    "# separated by commas. \n",
    "\n",
    "r = (1,2,3,4,5,6,7,8,9,10)\n"
   ]
  },
  {
   "cell_type": "code",
   "execution_count": null,
   "id": "74cad9e7",
   "metadata": {},
   "outputs": [],
   "source": [
    "# The thing that is unique about a set is that all the items in the set are unique. The set does not count items \n",
    "# more than once. If an item occurs more than once it is only counted once.\n"
   ]
  },
  {
   "cell_type": "code",
   "execution_count": 61,
   "id": "39f39bff",
   "metadata": {},
   "outputs": [
    {
     "data": {
      "text/plain": [
       "{1, 2, 3, 4, 11, 22, 33}"
      ]
     },
     "execution_count": 61,
     "metadata": {},
     "output_type": "execute_result"
    }
   ],
   "source": [
    "# you can put lists into set format by doing set(),\n",
    "\n",
    "list5 = [1,2,2,33,4,4,11,22,3,3,2]\n",
    "set(list5)\n"
   ]
  },
  {
   "cell_type": "code",
   "execution_count": 62,
   "id": "7a8436f4",
   "metadata": {},
   "outputs": [
    {
     "data": {
      "text/plain": [
       "False"
      ]
     },
     "execution_count": 62,
     "metadata": {},
     "output_type": "execute_result"
    }
   ],
   "source": [
    "2>3\n",
    "#False"
   ]
  },
  {
   "cell_type": "code",
   "execution_count": 63,
   "id": "ff6b1516",
   "metadata": {},
   "outputs": [
    {
     "data": {
      "text/plain": [
       "False"
      ]
     },
     "execution_count": 63,
     "metadata": {},
     "output_type": "execute_result"
    }
   ],
   "source": [
    "3<= 2\n",
    "# False"
   ]
  },
  {
   "cell_type": "code",
   "execution_count": 64,
   "id": "84c7dd53",
   "metadata": {},
   "outputs": [
    {
     "data": {
      "text/plain": [
       "False"
      ]
     },
     "execution_count": 64,
     "metadata": {},
     "output_type": "execute_result"
    }
   ],
   "source": [
    "3 == 2.0\n",
    "#False"
   ]
  },
  {
   "cell_type": "code",
   "execution_count": 65,
   "id": "a52bfcf6",
   "metadata": {},
   "outputs": [
    {
     "data": {
      "text/plain": [
       "True"
      ]
     },
     "execution_count": 65,
     "metadata": {},
     "output_type": "execute_result"
    }
   ],
   "source": [
    "3.0 == 3\n",
    "# True"
   ]
  },
  {
   "cell_type": "code",
   "execution_count": 66,
   "id": "c68b0693",
   "metadata": {},
   "outputs": [
    {
     "data": {
      "text/plain": [
       "False"
      ]
     },
     "execution_count": 66,
     "metadata": {},
     "output_type": "execute_result"
    }
   ],
   "source": [
    "4**0.5 != 2\n",
    "#False"
   ]
  },
  {
   "cell_type": "code",
   "execution_count": 67,
   "id": "79b68dde",
   "metadata": {},
   "outputs": [
    {
     "data": {
      "text/plain": [
       "False"
      ]
     },
     "execution_count": 67,
     "metadata": {},
     "output_type": "execute_result"
    }
   ],
   "source": [
    "\n",
    "# two nested lists\n",
    "l_one = [1,2,[3,4]]\n",
    "l_two = [1,2,{'k1':4}]\n",
    "\n",
    "# True or False?\n",
    "l_one[2][0] >= l_two[2]['k1']\n",
    "# False"
   ]
  },
  {
   "cell_type": "code",
   "execution_count": 70,
   "id": "0b8d42df",
   "metadata": {},
   "outputs": [
    {
     "data": {
      "text/plain": [
       "'olleh'"
      ]
     },
     "execution_count": 70,
     "metadata": {},
     "output_type": "execute_result"
    }
   ],
   "source": [
    "s[: : -1]"
   ]
  },
  {
   "cell_type": "code",
   "execution_count": null,
   "id": "925b9f46",
   "metadata": {},
   "outputs": [],
   "source": []
  }
 ],
 "metadata": {
  "kernelspec": {
   "display_name": "Python 3 (ipykernel)",
   "language": "python",
   "name": "python3"
  },
  "language_info": {
   "codemirror_mode": {
    "name": "ipython",
    "version": 3
   },
   "file_extension": ".py",
   "mimetype": "text/x-python",
   "name": "python",
   "nbconvert_exporter": "python",
   "pygments_lexer": "ipython3",
   "version": "3.9.12"
  }
 },
 "nbformat": 4,
 "nbformat_minor": 5
}
